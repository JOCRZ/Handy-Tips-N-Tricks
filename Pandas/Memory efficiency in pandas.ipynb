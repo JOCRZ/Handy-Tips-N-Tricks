{
 "cells": [
  {
   "cell_type": "markdown",
   "id": "884b3f94-3c1a-4e99-9f08-131569b70652",
   "metadata": {},
   "source": [
    "# Make Pandas Memory Efficient "
   ]
  },
  {
   "cell_type": "code",
   "execution_count": 1,
   "id": "accae478-e980-498c-8aaa-d11fabc94710",
   "metadata": {},
   "outputs": [],
   "source": [
    "import pandas as pd\n",
    "import numpy as np"
   ]
  },
  {
   "cell_type": "code",
   "execution_count": 10,
   "id": "4bee00f3-7cfd-4a93-998f-7635a4e39016",
   "metadata": {},
   "outputs": [
    {
     "name": "stdout",
     "output_type": "stream",
     "text": [
      "The timeit module is not an IPython extension.\n"
     ]
    }
   ],
   "source": [
    "import timeit\n",
    "%load_ext timeit"
   ]
  },
  {
   "cell_type": "code",
   "execution_count": 12,
   "id": "1323ff8c-97b6-48ef-b8b5-6a806579e8dd",
   "metadata": {},
   "outputs": [],
   "source": [
    "def get_dataset(size):\n",
    "    df = pd.DataFrame()\n",
    "    df['position'] = np.random.choice(['left','middle','right'],size)\n",
    "    df['age'] = np.random.randint(1,50,size)\n",
    "    df['team'] = np.random.choice(['red','blue','yellow','green'],size)\n",
    "    df['win'] = np.random.choice(['yes','no'],size)\n",
    "    df['prob'] = np.random.uniform(0,1,size)\n",
    "    return df"
   ]
  },
  {
   "cell_type": "code",
   "execution_count": 13,
   "id": "da7412b3-de21-4607-9c06-8852bbcb3c6f",
   "metadata": {},
   "outputs": [
    {
     "name": "stdout",
     "output_type": "stream",
     "text": [
      "<class 'pandas.core.frame.DataFrame'>\n",
      "RangeIndex: 1000000 entries, 0 to 999999\n",
      "Data columns (total 5 columns):\n",
      " #   Column    Non-Null Count    Dtype  \n",
      "---  ------    --------------    -----  \n",
      " 0   position  1000000 non-null  object \n",
      " 1   age       1000000 non-null  int32  \n",
      " 2   team      1000000 non-null  object \n",
      " 3   win       1000000 non-null  object \n",
      " 4   prob      1000000 non-null  float64\n",
      "dtypes: float64(1), int32(1), object(3)\n",
      "memory usage: 34.3+ MB\n"
     ]
    }
   ],
   "source": [
    "df = get_dataset(1000000)\n",
    "df.info()"
   ]
  },
  {
   "cell_type": "code",
   "execution_count": 14,
   "id": "0d7e08c7-3263-4cde-aea3-7e5ab827656d",
   "metadata": {},
   "outputs": [
    {
     "data": {
      "text/plain": [
       "(1000000, 5)"
      ]
     },
     "execution_count": 14,
     "metadata": {},
     "output_type": "execute_result"
    }
   ],
   "source": [
    "df.shape"
   ]
  },
  {
   "cell_type": "code",
   "execution_count": 21,
   "id": "2ace32d2-2639-4fb1-869d-e81bf5d33f89",
   "metadata": {},
   "outputs": [
    {
     "name": "stdout",
     "output_type": "stream",
     "text": [
      "988 ms ± 155 ms per loop (mean ± std. dev. of 7 runs, 1 loop each)\n"
     ]
    }
   ],
   "source": [
    "%timeit df['age_rank'] = df.groupby(['team','position'])['age'].rank()"
   ]
  },
  {
   "cell_type": "code",
   "execution_count": 22,
   "id": "9eb38cb3-ca2e-43ce-ab4a-09a8cc51dc71",
   "metadata": {},
   "outputs": [
    {
     "name": "stdout",
     "output_type": "stream",
     "text": [
      "832 ms ± 19.3 ms per loop (mean ± std. dev. of 7 runs, 1 loop each)\n"
     ]
    }
   ],
   "source": [
    "%timeit df['prob_rank'] = df.groupby(['team','position'])['prob'].rank()"
   ]
  },
  {
   "cell_type": "code",
   "execution_count": 23,
   "id": "eaf77e76-ea56-4aac-983f-47e6aa238f78",
   "metadata": {},
   "outputs": [
    {
     "name": "stdout",
     "output_type": "stream",
     "text": [
      "1 s ± 75.1 ms per loop (mean ± std. dev. of 7 runs, 1 loop each)\n"
     ]
    }
   ],
   "source": [
    "%timeit df['win_prob_rank'] = df.groupby(['team','position','win'])['prob'].rank()"
   ]
  },
  {
   "cell_type": "markdown",
   "id": "08b0932c-24c9-47d8-9476-4c3888aa2f16",
   "metadata": {},
   "source": [
    "#### Making Memory efficient"
   ]
  },
  {
   "cell_type": "markdown",
   "id": "371847be-109d-4318-ae41-fd73ed59bd3e",
   "metadata": {},
   "source": [
    "## Changing Data types"
   ]
  },
  {
   "cell_type": "code",
   "execution_count": 35,
   "id": "7c3eb9ef-25e9-47e0-a546-5171ab1446d5",
   "metadata": {},
   "outputs": [
    {
     "name": "stdout",
     "output_type": "stream",
     "text": [
      "<class 'pandas.core.frame.DataFrame'>\n",
      "RangeIndex: 1000000 entries, 0 to 999999\n",
      "Data columns (total 5 columns):\n",
      " #   Column    Non-Null Count    Dtype   \n",
      "---  ------    --------------    -----   \n",
      " 0   position  1000000 non-null  category\n",
      " 1   age       1000000 non-null  int32   \n",
      " 2   team      1000000 non-null  category\n",
      " 3   win       1000000 non-null  object  \n",
      " 4   prob      1000000 non-null  float64 \n",
      "dtypes: category(2), float64(1), int32(1), object(1)\n",
      "memory usage: 21.0+ MB\n"
     ]
    }
   ],
   "source": [
    "df = get_dataset(1000000)\n",
    "df['position'] = df['position'].astype('category')\n",
    "df['team'] = df['team'].astype('category')\n",
    "df.info()"
   ]
  },
  {
   "cell_type": "markdown",
   "id": "184d947e-6731-4e56-8f45-5fa820cada7e",
   "metadata": {},
   "source": [
    "## Int Downcasting Value Range\n",
    "- int8 can store integers from - 128 to 127\n",
    "- int16 can store integers from -32768 to 32768\n",
    "- int64 can store integers from -9223372036854775808 to 9223372036854775808"
   ]
  },
  {
   "cell_type": "code",
   "execution_count": 36,
   "id": "fef04021-f126-4431-bd92-2fb7ff4ba9ce",
   "metadata": {},
   "outputs": [
    {
     "data": {
      "text/plain": [
       "0    24\n",
       "1    18\n",
       "Name: age, dtype: int32"
      ]
     },
     "execution_count": 36,
     "metadata": {},
     "output_type": "execute_result"
    }
   ],
   "source": [
    "df['age'].head(2)"
   ]
  },
  {
   "cell_type": "code",
   "execution_count": 39,
   "id": "6b1b4570-bdad-4287-acf8-63d0cdf33f5a",
   "metadata": {},
   "outputs": [
    {
     "name": "stdout",
     "output_type": "stream",
     "text": [
      "max value of age = 49  &  min value of age = 1\n"
     ]
    }
   ],
   "source": [
    "print('max value of age =',df['age'].max(),' & ','min value of age =',df['age'].min())"
   ]
  },
  {
   "cell_type": "code",
   "execution_count": 40,
   "id": "b2a0f44a-1c60-4cd3-b4f0-535690cdede8",
   "metadata": {},
   "outputs": [
    {
     "name": "stdout",
     "output_type": "stream",
     "text": [
      "<class 'pandas.core.frame.DataFrame'>\n",
      "RangeIndex: 1000000 entries, 0 to 999999\n",
      "Data columns (total 5 columns):\n",
      " #   Column    Non-Null Count    Dtype   \n",
      "---  ------    --------------    -----   \n",
      " 0   position  1000000 non-null  category\n",
      " 1   age       1000000 non-null  int8    \n",
      " 2   team      1000000 non-null  category\n",
      " 3   win       1000000 non-null  object  \n",
      " 4   prob      1000000 non-null  float64 \n",
      "dtypes: category(2), float64(1), int8(1), object(1)\n",
      "memory usage: 18.1+ MB\n"
     ]
    }
   ],
   "source": [
    "df['age'] = df['age'].astype('int8')\n",
    "df.info()"
   ]
  },
  {
   "cell_type": "code",
   "execution_count": 41,
   "id": "9d75bef4-0900-4f34-9e2b-a89aaa066974",
   "metadata": {},
   "outputs": [
    {
     "data": {
      "text/plain": [
       "0    0.753883\n",
       "1    0.295704\n",
       "Name: prob, dtype: float64"
      ]
     },
     "execution_count": 41,
     "metadata": {},
     "output_type": "execute_result"
    }
   ],
   "source": [
    "df['prob'].head(2)"
   ]
  },
  {
   "cell_type": "markdown",
   "id": "e630170f-35be-4ffe-aad1-b22a8784a8fb",
   "metadata": {},
   "source": [
    "## Casting floats\n",
    "- Be careful while using it on float\n",
    "- Since it has decimal point the values may change"
   ]
  },
  {
   "cell_type": "code",
   "execution_count": 48,
   "id": "0b56b977-344a-414a-9203-253a3d9122a5",
   "metadata": {},
   "outputs": [
    {
     "name": "stdout",
     "output_type": "stream",
     "text": [
      "<class 'pandas.core.frame.DataFrame'>\n",
      "RangeIndex: 1000000 entries, 0 to 999999\n",
      "Data columns (total 5 columns):\n",
      " #   Column    Non-Null Count    Dtype   \n",
      "---  ------    --------------    -----   \n",
      " 0   position  1000000 non-null  category\n",
      " 1   age       1000000 non-null  int8    \n",
      " 2   team      1000000 non-null  category\n",
      " 3   win       1000000 non-null  object  \n",
      " 4   prob      1000000 non-null  float32 \n",
      "dtypes: category(2), float32(1), int8(1), object(1)\n",
      "memory usage: 14.3+ MB\n"
     ]
    }
   ],
   "source": [
    "df['prob'] = df['prob'].astype('float32')\n",
    "df.info()"
   ]
  },
  {
   "cell_type": "markdown",
   "id": "e3de8109-2427-40e9-8f84-7948fdb5975c",
   "metadata": {},
   "source": [
    "## Casting bools\n",
    "- true or false, yes or no"
   ]
  },
  {
   "cell_type": "code",
   "execution_count": 52,
   "id": "065794d1-627b-4682-8acf-2e731346566a",
   "metadata": {},
   "outputs": [
    {
     "name": "stdout",
     "output_type": "stream",
     "text": [
      "<class 'pandas.core.frame.DataFrame'>\n",
      "RangeIndex: 1000000 entries, 0 to 999999\n",
      "Data columns (total 5 columns):\n",
      " #   Column    Non-Null Count    Dtype   \n",
      "---  ------    --------------    -----   \n",
      " 0   position  1000000 non-null  category\n",
      " 1   age       1000000 non-null  int8    \n",
      " 2   team      1000000 non-null  category\n",
      " 3   win       1000000 non-null  bool    \n",
      " 4   prob      1000000 non-null  float32 \n",
      "dtypes: bool(1), category(2), float32(1), int8(1)\n",
      "memory usage: 7.6 MB\n"
     ]
    }
   ],
   "source": [
    "df['win'] = df['win'].map({'yes':True,'no':False})\n",
    "df['win'] = df['win'].astype(bool)\n",
    "df.info()"
   ]
  },
  {
   "cell_type": "code",
   "execution_count": 53,
   "id": "eda83a95-680e-4083-865f-b795bfe69a6e",
   "metadata": {},
   "outputs": [
    {
     "name": "stdout",
     "output_type": "stream",
     "text": [
      "505 ms ± 15 ms per loop (mean ± std. dev. of 7 runs, 1 loop each)\n"
     ]
    }
   ],
   "source": [
    "%timeit df['age_rank'] = df.groupby(['team','position'])['age'].rank()"
   ]
  },
  {
   "cell_type": "code",
   "execution_count": 54,
   "id": "acac4172-4b4b-4876-a70c-47cc4b911e79",
   "metadata": {},
   "outputs": [
    {
     "name": "stdout",
     "output_type": "stream",
     "text": [
      "782 ms ± 110 ms per loop (mean ± std. dev. of 7 runs, 1 loop each)\n"
     ]
    }
   ],
   "source": [
    "%timeit df['prob_rank'] = df.groupby(['team','position'])['prob'].rank()"
   ]
  },
  {
   "cell_type": "code",
   "execution_count": 55,
   "id": "2b1fe8ac-4445-4e82-ad5a-88d305f18366",
   "metadata": {},
   "outputs": [
    {
     "name": "stdout",
     "output_type": "stream",
     "text": [
      "715 ms ± 20.9 ms per loop (mean ± std. dev. of 7 runs, 1 loop each)\n"
     ]
    }
   ],
   "source": [
    "%timeit df['win_prob_rank'] = df.groupby(['team','position','win'])['prob'].rank()"
   ]
  },
  {
   "cell_type": "markdown",
   "id": "0c0d4096-a8f9-48d8-a3dd-20ae8deadc21",
   "metadata": {},
   "source": [
    "# What did we do?\n",
    "- We changed the data types of the columns.\n",
    "- We Downcasted the datatypes values."
   ]
  },
  {
   "cell_type": "markdown",
   "id": "98746136-bec8-4b15-8c92-26d76e437cdf",
   "metadata": {},
   "source": [
    "#### Before making alterations"
   ]
  },
  {
   "cell_type": "code",
   "execution_count": 67,
   "id": "1e6e681f-d647-456a-94cc-297aaa592731",
   "metadata": {},
   "outputs": [
    {
     "data": {
      "text/html": [
       "<div>\n",
       "<style scoped>\n",
       "    .dataframe tbody tr th:only-of-type {\n",
       "        vertical-align: middle;\n",
       "    }\n",
       "\n",
       "    .dataframe tbody tr th {\n",
       "        vertical-align: top;\n",
       "    }\n",
       "\n",
       "    .dataframe thead th {\n",
       "        text-align: right;\n",
       "    }\n",
       "</style>\n",
       "<table border=\"1\" class=\"dataframe\">\n",
       "  <thead>\n",
       "    <tr style=\"text-align: right;\">\n",
       "      <th></th>\n",
       "      <th>operation</th>\n",
       "      <th>mean</th>\n",
       "      <th>std</th>\n",
       "    </tr>\n",
       "  </thead>\n",
       "  <tbody>\n",
       "    <tr>\n",
       "      <th>0</th>\n",
       "      <td>groupby1</td>\n",
       "      <td>998</td>\n",
       "      <td>155.0</td>\n",
       "    </tr>\n",
       "    <tr>\n",
       "      <th>1</th>\n",
       "      <td>groupby2</td>\n",
       "      <td>832</td>\n",
       "      <td>19.3</td>\n",
       "    </tr>\n",
       "    <tr>\n",
       "      <th>2</th>\n",
       "      <td>groupby3</td>\n",
       "      <td>1000</td>\n",
       "      <td>75.1</td>\n",
       "    </tr>\n",
       "  </tbody>\n",
       "</table>\n",
       "</div>"
      ],
      "text/plain": [
       "  operation  mean    std\n",
       "0  groupby1   998  155.0\n",
       "1  groupby2   832   19.3\n",
       "2  groupby3  1000   75.1"
      ]
     },
     "execution_count": 67,
     "metadata": {},
     "output_type": "execute_result"
    }
   ],
   "source": [
    "resultsg1 = pd.DataFrame(\n",
    "    [\n",
    "    [\"groupby1\",998,155],\n",
    "    [\"groupby2\",832,19.3],\n",
    "    [\"groupby3\",1000,75.1]\n",
    "    ],\n",
    "    columns=[\"operation\",\"mean\",\"std\"],\n",
    ")\n",
    "resultsg1"
   ]
  },
  {
   "cell_type": "code",
   "execution_count": 68,
   "id": "6a66ac1f-359b-465d-93b7-65c2d4bc1df0",
   "metadata": {},
   "outputs": [
    {
     "data": {
      "text/plain": [
       "<AxesSubplot:title={'center':'Time to run the operations'}, xlabel='operation'>"
      ]
     },
     "execution_count": 68,
     "metadata": {},
     "output_type": "execute_result"
    },
    {
     "data": {
      "image/png": "[encoded data removed]",
      "text/plain": [
       "<Figure size 640x480 with 1 Axes>"
      ]
     },
     "metadata": {},
     "output_type": "display_data"
    }
   ],
   "source": [
    "resultsg1.set_index('operation')['mean'].plot(kind='bar',title='Time to run the operations')"
   ]
  },
  {
   "cell_type": "markdown",
   "id": "ead9d879-d7d3-4ecc-aef1-a4ccf8f08261",
   "metadata": {},
   "source": [
    "#### After making alterations"
   ]
  },
  {
   "cell_type": "code",
   "execution_count": 69,
   "id": "44c3c635-dff4-4f33-a8a3-3d5478024e8d",
   "metadata": {},
   "outputs": [
    {
     "data": {
      "text/html": [
       "<div>\n",
       "<style scoped>\n",
       "    .dataframe tbody tr th:only-of-type {\n",
       "        vertical-align: middle;\n",
       "    }\n",
       "\n",
       "    .dataframe tbody tr th {\n",
       "        vertical-align: top;\n",
       "    }\n",
       "\n",
       "    .dataframe thead th {\n",
       "        text-align: right;\n",
       "    }\n",
       "</style>\n",
       "<table border=\"1\" class=\"dataframe\">\n",
       "  <thead>\n",
       "    <tr style=\"text-align: right;\">\n",
       "      <th></th>\n",
       "      <th>operation</th>\n",
       "      <th>mean</th>\n",
       "      <th>std</th>\n",
       "    </tr>\n",
       "  </thead>\n",
       "  <tbody>\n",
       "    <tr>\n",
       "      <th>0</th>\n",
       "      <td>groupby1</td>\n",
       "      <td>505</td>\n",
       "      <td>15.0</td>\n",
       "    </tr>\n",
       "    <tr>\n",
       "      <th>1</th>\n",
       "      <td>groupby2</td>\n",
       "      <td>782</td>\n",
       "      <td>110.0</td>\n",
       "    </tr>\n",
       "    <tr>\n",
       "      <th>2</th>\n",
       "      <td>groupby3</td>\n",
       "      <td>715</td>\n",
       "      <td>20.9</td>\n",
       "    </tr>\n",
       "  </tbody>\n",
       "</table>\n",
       "</div>"
      ],
      "text/plain": [
       "  operation  mean    std\n",
       "0  groupby1   505   15.0\n",
       "1  groupby2   782  110.0\n",
       "2  groupby3   715   20.9"
      ]
     },
     "execution_count": 69,
     "metadata": {},
     "output_type": "execute_result"
    }
   ],
   "source": [
    "resultsg2 = pd.DataFrame(\n",
    "    [\n",
    "    [\"groupby1\",505,15],\n",
    "    [\"groupby2\",782,110],\n",
    "    [\"groupby3\",715,20.9]\n",
    "    ],\n",
    "    columns=[\"operation\",\"mean\",\"std\"],\n",
    ")\n",
    "resultsg2"
   ]
  },
  {
   "cell_type": "code",
   "execution_count": 70,
   "id": "c4aa1671-7d18-4343-b081-b3b2ed711d72",
   "metadata": {},
   "outputs": [
    {
     "data": {
      "text/plain": [
       "<AxesSubplot:title={'center':'Time to run the operations'}, xlabel='operation'>"
      ]
     },
     "execution_count": 70,
     "metadata": {},
     "output_type": "execute_result"
    },
    {
     "data": {
      "image/png": "[encoded data removed]",
      "text/plain": [
       "<Figure size 640x480 with 1 Axes>"
      ]
     },
     "metadata": {},
     "output_type": "display_data"
    }
   ],
   "source": [
    "resultsg2.set_index('operation')['mean'].plot(kind='bar',title='Time to run the operations')"
   ]
  },
  {
   "cell_type": "markdown",
   "id": "cb820f18-4b86-429b-b913-7b8a74ec675c",
   "metadata": {},
   "source": [
    "# Memory Efficiency"
   ]
  },
  {
   "cell_type": "code",
   "execution_count": 72,
   "id": "bb59268c-6042-4df9-8276-b203d4b6626e",
   "metadata": {},
   "outputs": [
    {
     "data": {
      "text/plain": [
       "<AxesSubplot:title={'center':'Memory Usage Before & After'}, xlabel='Memory'>"
      ]
     },
     "execution_count": 72,
     "metadata": {},
     "output_type": "execute_result"
    },
    {
     "data": {
      "image/png": "[encoded data removed]",
      "text/plain": [
       "<Figure size 640x480 with 1 Axes>"
      ]
     },
     "metadata": {},
     "output_type": "display_data"
    }
   ],
   "source": [
    "results = pd.DataFrame(\n",
    "    [\n",
    "    [\"Before\",34.3],\n",
    "    [\"After\",7.6],\n",
    "    ],\n",
    "    columns=[\"Memory\",\"Efficiency\"],\n",
    ")\n",
    "results\n",
    "results.set_index('Memory')['Efficiency'].plot(kind='bar',title='Memory Usage Before & After')"
   ]
  },
  {
   "cell_type": "code",
   "execution_count": null,
   "id": "c657b869-41f9-4add-91c0-7274b2f4f3ca",
   "metadata": {},
   "outputs": [],
   "source": []
  }
 ],
 "metadata": {
  "kernelspec": {
   "display_name": "Python 3 (ipykernel)",
   "language": "python",
   "name": "python3"
  },
  "language_info": {
   "codemirror_mode": {
    "name": "ipython",
    "version": 3
   },
   "file_extension": ".py",
   "mimetype": "text/x-python",
   "name": "python",
   "nbconvert_exporter": "python",
   "pygments_lexer": "ipython3",
   "version": "3.9.13"
  }
 },
 "nbformat": 4,
 "nbformat_minor": 5
}
