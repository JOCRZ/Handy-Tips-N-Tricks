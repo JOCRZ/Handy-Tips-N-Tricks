{
 "cells": [
  {
   "cell_type": "markdown",
   "id": "b8342342-92cd-4e25-828f-4f3292921504",
   "metadata": {},
   "source": [
    "# Speed up you Pandas Code"
   ]
  },
  {
   "cell_type": "code",
   "execution_count": 1,
   "id": "b68042f0-418e-4bda-9ce9-2756e40866f0",
   "metadata": {},
   "outputs": [],
   "source": [
    "import pandas as pd\n",
    "import numpy as np"
   ]
  },
  {
   "cell_type": "code",
   "execution_count": 62,
   "id": "80ee0ffe-325e-4eee-8a60-6b4c8d41328f",
   "metadata": {},
   "outputs": [
    {
     "name": "stdout",
     "output_type": "stream",
     "text": [
      "The timeit module is not an IPython extension.\n"
     ]
    }
   ],
   "source": [
    "import timeit\n",
    "%load_ext timeit"
   ]
  },
  {
   "cell_type": "code",
   "execution_count": 46,
   "id": "e3e36e45-b533-4d8c-a27b-59528a7b67ac",
   "metadata": {},
   "outputs": [],
   "source": [
    "def get_data(size = 10_000):\n",
    "    df = pd.DataFrame()\n",
    "    df['age'] = np.random.randint(0,100,size)\n",
    "    df['time_in_bed'] = np.random.randint(0,9,size)\n",
    "    df['pct_sleeping'] = np.random.choice(['pizza','taco','ice-cream'],size)\n",
    "    df['hate_food'] = np.random.choice(['broccoli','candy corn','eggs'],size)\n",
    "    return df"
   ]
  },
  {
   "cell_type": "code",
   "execution_count": 53,
   "id": "63c31380-73f9-4138-83e9-5e88671fbb6c",
   "metadata": {},
   "outputs": [],
   "source": [
    "import pandas as pd\n",
    "import numpy as np\n",
    "\n",
    "def get_data(size=10_000):\n",
    "    df = pd.DataFrame()\n",
    "    df['age'] = np.random.randint(0, 100, size)\n",
    "    df['time_in_bed'] = np.random.randint(0,9,size)\n",
    "    df['pct_sleeping'] = np.random.rand(size)\n",
    "    df['favorite_food'] = np.random.choice(['pizza', 'taco', 'ice-cream'], size)\n",
    "    df['hate_food'] = np.random.choice(['broccoli', 'candy corn', 'eggs'], size)\n",
    "    return df\n"
   ]
  },
  {
   "cell_type": "code",
   "execution_count": 54,
   "id": "7dfa600d-94cb-4f3e-b4e1-2b7b6d8b63a1",
   "metadata": {},
   "outputs": [
    {
     "data": {
      "text/html": [
       "<div>\n",
       "<style scoped>\n",
       "    .dataframe tbody tr th:only-of-type {\n",
       "        vertical-align: middle;\n",
       "    }\n",
       "\n",
       "    .dataframe tbody tr th {\n",
       "        vertical-align: top;\n",
       "    }\n",
       "\n",
       "    .dataframe thead th {\n",
       "        text-align: right;\n",
       "    }\n",
       "</style>\n",
       "<table border=\"1\" class=\"dataframe\">\n",
       "  <thead>\n",
       "    <tr style=\"text-align: right;\">\n",
       "      <th></th>\n",
       "      <th>age</th>\n",
       "      <th>time_in_bed</th>\n",
       "      <th>pct_sleeping</th>\n",
       "      <th>favorite_food</th>\n",
       "      <th>hate_food</th>\n",
       "    </tr>\n",
       "  </thead>\n",
       "  <tbody>\n",
       "    <tr>\n",
       "      <th>0</th>\n",
       "      <td>8</td>\n",
       "      <td>3</td>\n",
       "      <td>0.609639</td>\n",
       "      <td>ice-cream</td>\n",
       "      <td>broccoli</td>\n",
       "    </tr>\n",
       "    <tr>\n",
       "      <th>1</th>\n",
       "      <td>49</td>\n",
       "      <td>8</td>\n",
       "      <td>0.918700</td>\n",
       "      <td>pizza</td>\n",
       "      <td>eggs</td>\n",
       "    </tr>\n",
       "    <tr>\n",
       "      <th>2</th>\n",
       "      <td>63</td>\n",
       "      <td>4</td>\n",
       "      <td>0.110193</td>\n",
       "      <td>ice-cream</td>\n",
       "      <td>broccoli</td>\n",
       "    </tr>\n",
       "    <tr>\n",
       "      <th>3</th>\n",
       "      <td>92</td>\n",
       "      <td>1</td>\n",
       "      <td>0.660034</td>\n",
       "      <td>ice-cream</td>\n",
       "      <td>candy corn</td>\n",
       "    </tr>\n",
       "    <tr>\n",
       "      <th>4</th>\n",
       "      <td>41</td>\n",
       "      <td>7</td>\n",
       "      <td>0.927568</td>\n",
       "      <td>pizza</td>\n",
       "      <td>broccoli</td>\n",
       "    </tr>\n",
       "    <tr>\n",
       "      <th>...</th>\n",
       "      <td>...</td>\n",
       "      <td>...</td>\n",
       "      <td>...</td>\n",
       "      <td>...</td>\n",
       "      <td>...</td>\n",
       "    </tr>\n",
       "    <tr>\n",
       "      <th>9995</th>\n",
       "      <td>29</td>\n",
       "      <td>0</td>\n",
       "      <td>0.735097</td>\n",
       "      <td>taco</td>\n",
       "      <td>broccoli</td>\n",
       "    </tr>\n",
       "    <tr>\n",
       "      <th>9996</th>\n",
       "      <td>79</td>\n",
       "      <td>7</td>\n",
       "      <td>0.947481</td>\n",
       "      <td>ice-cream</td>\n",
       "      <td>broccoli</td>\n",
       "    </tr>\n",
       "    <tr>\n",
       "      <th>9997</th>\n",
       "      <td>60</td>\n",
       "      <td>6</td>\n",
       "      <td>0.399197</td>\n",
       "      <td>ice-cream</td>\n",
       "      <td>candy corn</td>\n",
       "    </tr>\n",
       "    <tr>\n",
       "      <th>9998</th>\n",
       "      <td>61</td>\n",
       "      <td>7</td>\n",
       "      <td>0.479151</td>\n",
       "      <td>ice-cream</td>\n",
       "      <td>candy corn</td>\n",
       "    </tr>\n",
       "    <tr>\n",
       "      <th>9999</th>\n",
       "      <td>7</td>\n",
       "      <td>5</td>\n",
       "      <td>0.025698</td>\n",
       "      <td>taco</td>\n",
       "      <td>candy corn</td>\n",
       "    </tr>\n",
       "  </tbody>\n",
       "</table>\n",
       "<p>10000 rows × 5 columns</p>\n",
       "</div>"
      ],
      "text/plain": [
       "      age  time_in_bed  pct_sleeping favorite_food   hate_food\n",
       "0       8            3      0.609639     ice-cream    broccoli\n",
       "1      49            8      0.918700         pizza        eggs\n",
       "2      63            4      0.110193     ice-cream    broccoli\n",
       "3      92            1      0.660034     ice-cream  candy corn\n",
       "4      41            7      0.927568         pizza    broccoli\n",
       "...   ...          ...           ...           ...         ...\n",
       "9995   29            0      0.735097          taco    broccoli\n",
       "9996   79            7      0.947481     ice-cream    broccoli\n",
       "9997   60            6      0.399197     ice-cream  candy corn\n",
       "9998   61            7      0.479151     ice-cream  candy corn\n",
       "9999    7            5      0.025698          taco  candy corn\n",
       "\n",
       "[10000 rows x 5 columns]"
      ]
     },
     "execution_count": 54,
     "metadata": {},
     "output_type": "execute_result"
    }
   ],
   "source": [
    "get_data()"
   ]
  },
  {
   "cell_type": "markdown",
   "id": "30d31add-4797-453e-b479-babc03415d4f",
   "metadata": {},
   "source": [
    "## The Problem\n",
    "Reward calculation:\n",
    "\n",
    "- If they were in bed for more thatn 5 hours And they were sleeping form more than 50% we give them their favorite food.\n",
    "- Other wise we give them their hate food.\n",
    "- If they are over 90 years  old their favorite food regardless."
   ]
  },
  {
   "cell_type": "code",
   "execution_count": 55,
   "id": "b723f3e2-2a1a-411f-8d9e-c59af7cc0ff7",
   "metadata": {},
   "outputs": [],
   "source": [
    "def reward_calc(row):\n",
    "    if row['age'] >= 90:\n",
    "        return row['favorite_food']\n",
    "    if (row['time_in_bed'] > 5) & (row['pct_sleeping'] > 0.5):\n",
    "        return row['favorite_food']\n",
    "    return row['hate_food']"
   ]
  },
  {
   "cell_type": "markdown",
   "id": "464eac3e-043e-4cbe-9329-3caa665de806",
   "metadata": {},
   "source": [
    "## Level 1 - Loop"
   ]
  },
  {
   "cell_type": "code",
   "execution_count": 77,
   "id": "f9c97f77-7dc3-438a-b01b-6900472888b8",
   "metadata": {},
   "outputs": [],
   "source": [
    "df = get_data()"
   ]
  },
  {
   "cell_type": "code",
   "execution_count": 78,
   "id": "01ada6d3-add5-4f59-9a9c-a5313890b514",
   "metadata": {},
   "outputs": [
    {
     "name": "stdout",
     "output_type": "stream",
     "text": [
      "2.44 s ± 360 ms per loop (mean ± std. dev. of 7 runs, 1 loop each)\n"
     ]
    }
   ],
   "source": [
    "%%timeit\n",
    "for index, row in df.iterrows():\n",
    "    df.loc[index,'reward'] = reward_calc(row)"
   ]
  },
  {
   "cell_type": "markdown",
   "id": "f0744975-b13a-4fdc-b79c-76406c41c98a",
   "metadata": {},
   "source": [
    "## Level 2 - Apply"
   ]
  },
  {
   "cell_type": "code",
   "execution_count": 72,
   "id": "cb107941-862f-4d89-8aef-d585f6e48bdc",
   "metadata": {},
   "outputs": [],
   "source": [
    "df = get_data()"
   ]
  },
  {
   "cell_type": "code",
   "execution_count": 73,
   "id": "c5c97f9b-6c2e-4442-8740-3bf53b25b125",
   "metadata": {},
   "outputs": [
    {
     "name": "stdout",
     "output_type": "stream",
     "text": [
      "165 ms ± 9.96 ms per loop (mean ± std. dev. of 7 runs, 10 loops each)\n"
     ]
    }
   ],
   "source": [
    "%%timeit\n",
    "df['reward'] = df.apply(reward_calc,axis=1)\n"
   ]
  },
  {
   "cell_type": "markdown",
   "id": "0cd5097f-37c2-4047-9c48-e22b3e96d36d",
   "metadata": {},
   "source": [
    "## Level 3 - Vectorized"
   ]
  },
  {
   "cell_type": "code",
   "execution_count": 74,
   "id": "9d03c4c1-bd17-46ce-b7c0-c083f2a71a33",
   "metadata": {},
   "outputs": [],
   "source": [
    "df = get_data()"
   ]
  },
  {
   "cell_type": "code",
   "execution_count": 75,
   "id": "7a877437-597a-4925-8756-e5a5e04a43b3",
   "metadata": {},
   "outputs": [
    {
     "name": "stdout",
     "output_type": "stream",
     "text": [
      "2.22 ms ± 602 µs per loop (mean ± std. dev. of 7 runs, 100 loops each)\n"
     ]
    }
   ],
   "source": [
    "%%timeit\n",
    "df['reward'] = df['hate_food']\n",
    "df.loc[\n",
    "((df['pct_sleeping'] > 0.5) & \n",
    " (df['time_in_bed'] > 5)) | (df['age'] > 90) ,\n",
    "'reward'] = df['favorite_food']"
   ]
  },
  {
   "cell_type": "code",
   "execution_count": 85,
   "id": "5fb44c7c-06a1-4ab8-9bf1-b34974582688",
   "metadata": {},
   "outputs": [
    {
     "data": {
      "text/html": [
       "<div>\n",
       "<style scoped>\n",
       "    .dataframe tbody tr th:only-of-type {\n",
       "        vertical-align: middle;\n",
       "    }\n",
       "\n",
       "    .dataframe tbody tr th {\n",
       "        vertical-align: top;\n",
       "    }\n",
       "\n",
       "    .dataframe thead th {\n",
       "        text-align: right;\n",
       "    }\n",
       "</style>\n",
       "<table border=\"1\" class=\"dataframe\">\n",
       "  <thead>\n",
       "    <tr style=\"text-align: right;\">\n",
       "      <th></th>\n",
       "      <th>type</th>\n",
       "      <th>mean</th>\n",
       "      <th>std</th>\n",
       "    </tr>\n",
       "  </thead>\n",
       "  <tbody>\n",
       "    <tr>\n",
       "      <th>0</th>\n",
       "      <td>loop</td>\n",
       "      <td>2440.00</td>\n",
       "      <td>360.000</td>\n",
       "    </tr>\n",
       "    <tr>\n",
       "      <th>1</th>\n",
       "      <td>apply</td>\n",
       "      <td>165.00</td>\n",
       "      <td>9.960</td>\n",
       "    </tr>\n",
       "    <tr>\n",
       "      <th>2</th>\n",
       "      <td>vecorized</td>\n",
       "      <td>2.22</td>\n",
       "      <td>0.602</td>\n",
       "    </tr>\n",
       "  </tbody>\n",
       "</table>\n",
       "</div>"
      ],
      "text/plain": [
       "        type     mean      std\n",
       "0       loop  2440.00  360.000\n",
       "1      apply   165.00    9.960\n",
       "2  vecorized     2.22    0.602"
      ]
     },
     "execution_count": 85,
     "metadata": {},
     "output_type": "execute_result"
    }
   ],
   "source": [
    "results = pd.DataFrame(\n",
    "    [\n",
    "    [\"loop\",2440,360],\n",
    "    [\"apply\",165,9.96],\n",
    "    [\"vecorized\",2.22,0.602]\n",
    "    ],\n",
    "    columns=[\"type\",\"mean\",\"std\"],\n",
    ")\n",
    "results"
   ]
  },
  {
   "cell_type": "code",
   "execution_count": 88,
   "id": "afa024d2-c49d-46fa-9fce-7ede58b46851",
   "metadata": {},
   "outputs": [
    {
     "data": {
      "text/plain": [
       "<AxesSubplot:title={'center':'Time to run function reward_calc'}, xlabel='type'>"
      ]
     },
     "execution_count": 88,
     "metadata": {},
     "output_type": "execute_result"
    },
    {
     "data": {
      "image/png": "[encoded data removed]",
      "text/plain": [
       "<Figure size 640x480 with 1 Axes>"
      ]
     },
     "metadata": {},
     "output_type": "display_data"
    }
   ],
   "source": [
    "results.set_index('type')['mean'].plot(kind='bar',title='Time to run function reward_calc')"
   ]
  },
  {
   "cell_type": "code",
   "execution_count": null,
   "id": "c90f33c6-3848-40fb-8d71-abb635c91012",
   "metadata": {},
   "outputs": [],
   "source": []
  },
  {
   "cell_type": "code",
   "execution_count": null,
   "id": "747f2914-6754-46c2-be39-54c65d12ba15",
   "metadata": {},
   "outputs": [],
   "source": []
  }
 ],
 "metadata": {
  "kernelspec": {
   "display_name": "Python 3 (ipykernel)",
   "language": "python",
   "name": "python3"
  },
  "language_info": {
   "codemirror_mode": {
    "name": "ipython",
    "version": 3
   },
   "file_extension": ".py",
   "mimetype": "text/x-python",
   "name": "python",
   "nbconvert_exporter": "python",
   "pygments_lexer": "ipython3",
   "version": "3.9.13"
  }
 },
 "nbformat": 4,
 "nbformat_minor": 5
}
