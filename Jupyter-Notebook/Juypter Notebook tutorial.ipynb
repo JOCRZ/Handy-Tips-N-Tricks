{
 "cells": [
  {
   "cell_type": "markdown",
   "id": "26e91456-afed-433b-b633-e9148eff8335",
   "metadata": {},
   "source": [
    "# Juypter Note-Book Tutorial"
   ]
  },
  {
   "cell_type": "markdown",
   "id": "2e9916cb-84d2-45ae-9696-b0679cbe0a9a",
   "metadata": {},
   "source": [
    "- You can use </br> br tag to give <br/> break to the line\n",
    "- You can you Find and Replace"
   ]
  },
  {
   "cell_type": "markdown",
   "id": "ad87d612-ae36-4b9c-a07e-332810b88767",
   "metadata": {},
   "source": [
    "## Pandas Tricks"
   ]
  },
  {
   "cell_type": "markdown",
   "id": "76d2d0b4-4958-4632-9b29-ef520298b3b7",
   "metadata": {},
   "source": [
    "- While using head() in pandas, it will not display all the rows there  is a limit set so to remove the limit we can use\n",
    "- ' pd.options.display.max_rows = 100 ', here 100 is the limit you can set.\n",
    "- ' pd.options.display.max_columns = 100 ', same for columns also.\n"
   ]
  },
  {
   "cell_type": "markdown",
   "id": "f005d894-a638-4a3a-ad8d-d43fc58b2505",
   "metadata": {},
   "source": [
    "## Running the Cells"
   ]
  },
  {
   "cell_type": "markdown",
   "id": "33f167de-b429-401f-a93a-a530dd6b1be9",
   "metadata": {},
   "source": [
    "- Ctrl + Enter ( To Run the cell again without Jumping to next cell )\n",
    "- Shfit + Enter ( To Run the cell and Jump to next Cell )"
   ]
  },
  {
   "cell_type": "markdown",
   "id": "454ba6e4-4b09-4ccb-a0f7-44497dece721",
   "metadata": {},
   "source": [
    "### Moving Through Cells with keyboard Shortcuts"
   ]
  },
  {
   "cell_type": "markdown",
   "id": "b9e99b76-966c-4c6d-84e5-488cbc9cc7fd",
   "metadata": {},
   "source": [
    "- Use ESC key to get out of the cell.\n",
    "- Use K and J to move up and down the cells.\n",
    "- K Goes up \n",
    "- J Goes Down "
   ]
  },
  {
   "cell_type": "markdown",
   "id": "d843e72d-0e42-4a65-b9c3-ba7bf969edbd",
   "metadata": {},
   "source": [
    "## Adding Cells with Keyboard Shortcuts"
   ]
  },
  {
   "cell_type": "markdown",
   "id": "689655d2-d376-4b99-8fa8-f1c67f0bfbe2",
   "metadata": {},
   "source": [
    "- Press ' A ' to add Cell above the current cell\n",
    "- Press ' B ' to add Cell below the current cell"
   ]
  },
  {
   "cell_type": "markdown",
   "id": "7adb87a8-1c0d-4d29-bd68-dfea0365ab18",
   "metadata": {},
   "source": [
    "## Deleting Cells with Keyboard Shortcuts"
   ]
  },
  {
   "cell_type": "markdown",
   "id": "231247f9-4f87-4fb6-897b-a99d6997f447",
   "metadata": {},
   "source": [
    "- First Press ' ESC ' and get out of the cell\n",
    "- Press ' DD ' the current cell will be deleted."
   ]
  },
  {
   "cell_type": "markdown",
   "id": "0fbf357a-6724-4a0e-bc1b-db0e6914adb5",
   "metadata": {},
   "source": [
    "## Making the Cell Markdown or Code"
   ]
  },
  {
   "cell_type": "markdown",
   "id": "d6a19177-e6d8-401a-8288-facb36f76dd4",
   "metadata": {},
   "source": [
    "- To Make the Cell Markdown or Code first press ' ESC '\n",
    "- Press ' M ' for Markdown and ' C ' for Code."
   ]
  },
  {
   "cell_type": "markdown",
   "id": "d5da08a3-bdad-4c19-b039-226128a5c20a",
   "metadata": {},
   "source": [
    "## Running Terminal Commands"
   ]
  },
  {
   "cell_type": "markdown",
   "id": "b58ec446-8d62-4981-8be1-d21fd0c7c26e",
   "metadata": {},
   "source": [
    "- You can use ' ! ' to run the terminal commands\n",
    "- Example:\n",
    "- ! pip install pandas\n",
    "- ! ls or cd or mkdir"
   ]
  },
  {
   "cell_type": "markdown",
   "id": "2a9da8a1-ccbd-467b-a0a9-007e9409f1de",
   "metadata": {},
   "source": [
    "## Magic Commands"
   ]
  },
  {
   "cell_type": "markdown",
   "id": "45103a99-3c79-4a02-9ac9-6bf75be6e4a5",
   "metadata": {},
   "source": [
    "- The single % sign is used to execute a single-line magic command. \n",
    "- The double %% sign is used to execute a cell-level magic command"
   ]
  },
  {
   "cell_type": "markdown",
   "id": "ebbe842e-f2d6-4a4e-b0ea-9c1578dee7e9",
   "metadata": {},
   "source": [
    "- Instead of using ! you can use % to run terminal commands\n",
    "- %pip install pandas"
   ]
  },
  {
   "cell_type": "markdown",
   "id": "d18c6b25-62ca-4596-9f48-de2a31549261",
   "metadata": {},
   "source": [
    "- You can you string multiple commands using ' ; '\n",
    "- ! cd foldername ; ls ( This line will get inside the folder and list the files inside the folder )"
   ]
  },
  {
   "cell_type": "markdown",
   "id": "39695a0c-b03c-4a5e-9891-0b27c4f8344b",
   "metadata": {},
   "source": [
    "## Setting up Alerts! when cell complete the Run"
   ]
  },
  {
   "cell_type": "markdown",
   "id": "03e243c0-ab01-4bd6-8ea4-93d3374abdab",
   "metadata": {},
   "source": [
    "- !pip install jupyternotify\n",
    "- %load_ext jupyternotify\n",
    "- %%notify\n",
    "- Example:\n",
    "\n",
    "%%notify\n",
    "\n",
    "CODE\n",
    "\n",
    "print('Exection completed')"
   ]
  },
  {
   "cell_type": "markdown",
   "id": "3b4dadd7-b454-4a93-8522-1bd92670c2bf",
   "metadata": {},
   "source": [
    "## Creating Slide Show using the NoteBook"
   ]
  },
  {
   "cell_type": "markdown",
   "id": "87264dd2-fddc-46cf-b75d-e6286bb427cd",
   "metadata": {},
   "source": [
    "- Path ( View -> cell -> toolbar )\n",
    "\n",
    "- Slides - Main Option\n",
    "- Sub-slides - Fill full screen\n",
    "- Fragements - Underneath slide/ sub-slide (add adition information)\n",
    "- Skip - Don't inculde cell\n",
    "- Notes - Don't indulde cell"
   ]
  },
  {
   "cell_type": "code",
   "execution_count": null,
   "id": "1e97a1f7-f40a-4af4-8e84-7515c595ba1a",
   "metadata": {},
   "outputs": [],
   "source": [
    "# Import the display module\n",
    "from IPython.display import display\n",
    "\n",
    "# Set the maximum number of rows and columns to display\n",
    "pd.set_option('display.max_rows', None)\n",
    "pd.set_option('display.max_columns', None)\n",
    "\n",
    "# Display the DataFrame\n",
    "display(respondents)\n"
   ]
  },
  {
   "cell_type": "code",
   "execution_count": null,
   "id": "ff428cff-d2b3-48d0-8c1e-0c18cf6d48e5",
   "metadata": {},
   "outputs": [],
   "source": []
  }
 ],
 "metadata": {
  "kernelspec": {
   "display_name": "Python 3 (ipykernel)",
   "language": "python",
   "name": "python3"
  },
  "language_info": {
   "codemirror_mode": {
    "name": "ipython",
    "version": 3
   },
   "file_extension": ".py",
   "mimetype": "text/x-python",
   "name": "python",
   "nbconvert_exporter": "python",
   "pygments_lexer": "ipython3",
   "version": "3.9.13"
  }
 },
 "nbformat": 4,
 "nbformat_minor": 5
}
